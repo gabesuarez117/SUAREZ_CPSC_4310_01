{
 "cells": [
  {
   "cell_type": "markdown",
   "metadata": {},
   "source": [
    "# ME1 \n",
    "\n",
    "\n",
    "## Exploratory Data Analysis\n",
    "\n",
    "- See the examples of basic visualization and Pandas on Canvas. "
   ]
  },
  {
   "cell_type": "markdown",
   "metadata": {},
   "source": [
    "#### Write full names of your team members here.\n",
    "\n",
    "- Sophia Luehmann\n",
    "\n",
    "- Gabriel Suarez\n"
   ]
  },
  {
   "cell_type": "markdown",
   "metadata": {},
   "source": [
    "## Advertising data\n",
    "\n",
    "Let's take a look at some data, ask some questions about that data, and then use linear regression to answer those questions!\n",
    "\n",
    "A toy dataset for your exploratory data analysis:\n",
    "\n",
    "./data/Advertising.csv"
   ]
  },
  {
   "cell_type": "code",
   "execution_count": 1,
   "metadata": {},
   "outputs": [
    {
     "data": {
      "text/html": [
       "<div>\n",
       "<style scoped>\n",
       "    .dataframe tbody tr th:only-of-type {\n",
       "        vertical-align: middle;\n",
       "    }\n",
       "\n",
       "    .dataframe tbody tr th {\n",
       "        vertical-align: top;\n",
       "    }\n",
       "\n",
       "    .dataframe thead th {\n",
       "        text-align: right;\n",
       "    }\n",
       "</style>\n",
       "<table border=\"1\" class=\"dataframe\">\n",
       "  <thead>\n",
       "    <tr style=\"text-align: right;\">\n",
       "      <th></th>\n",
       "      <th>TV</th>\n",
       "      <th>Radio</th>\n",
       "      <th>Newspaper</th>\n",
       "      <th>Sales</th>\n",
       "    </tr>\n",
       "  </thead>\n",
       "  <tbody>\n",
       "    <tr>\n",
       "      <th>3/11/19</th>\n",
       "      <td>230.1</td>\n",
       "      <td>37.8</td>\n",
       "      <td>69.2</td>\n",
       "      <td>22.1</td>\n",
       "    </tr>\n",
       "    <tr>\n",
       "      <th>3/12/19</th>\n",
       "      <td>44.5</td>\n",
       "      <td>39.3</td>\n",
       "      <td>45.1</td>\n",
       "      <td>10.4</td>\n",
       "    </tr>\n",
       "    <tr>\n",
       "      <th>3/13/19</th>\n",
       "      <td>17.2</td>\n",
       "      <td>45.9</td>\n",
       "      <td>69.3</td>\n",
       "      <td>9.3</td>\n",
       "    </tr>\n",
       "    <tr>\n",
       "      <th>3/14/19</th>\n",
       "      <td>151.5</td>\n",
       "      <td>41.3</td>\n",
       "      <td>58.5</td>\n",
       "      <td>18.5</td>\n",
       "    </tr>\n",
       "    <tr>\n",
       "      <th>3/15/19</th>\n",
       "      <td>180.8</td>\n",
       "      <td>10.8</td>\n",
       "      <td>58.4</td>\n",
       "      <td>12.9</td>\n",
       "    </tr>\n",
       "  </tbody>\n",
       "</table>\n",
       "</div>"
      ],
      "text/plain": [
       "            TV  Radio  Newspaper  Sales\n",
       "3/11/19  230.1   37.8       69.2   22.1\n",
       "3/12/19   44.5   39.3       45.1   10.4\n",
       "3/13/19   17.2   45.9       69.3    9.3\n",
       "3/14/19  151.5   41.3       58.5   18.5\n",
       "3/15/19  180.8   10.8       58.4   12.9"
      ]
     },
     "execution_count": 1,
     "metadata": {},
     "output_type": "execute_result"
    }
   ],
   "source": [
    "import pandas as pd\n",
    "\n",
    "# read CSV file stored in the current directory and save the results\n",
    "data = pd.read_csv('./data/Advertising.csv', skipinitialspace=True, index_col=0)\n",
    "\n",
    "# display the first 5 rows\n",
    "data.head()"
   ]
  },
  {
   "cell_type": "markdown",
   "metadata": {},
   "source": [
    "What are the features?\n",
    "- **TV:** advertising dollars spent on TV for a single product in a given market (in thousands of dollars)\n",
    "- **Radio:** advertising dollars spent on Radio\n",
    "- **Newspaper:** advertising dollars spent on Newspaper\n",
    "\n",
    "What is the response?\n",
    "- **Sales:** sales of a single product in a given market (in thousands of items)\n",
    "\n",
    "What else do we know?\n",
    "- Because the response variable is continuous, this is a **regression** problem.\n",
    "- There are 200 **observations** (represented by the rows), and each observation is a single market."
   ]
  },
  {
   "cell_type": "code",
   "execution_count": 3,
   "metadata": {},
   "outputs": [
    {
     "data": {
      "text/plain": [
       "(200, 4)"
      ]
     },
     "execution_count": 3,
     "metadata": {},
     "output_type": "execute_result"
    }
   ],
   "source": [
    "#display all data. You can uncomment the code in the next line\n",
    "\n",
    "#display(data)\n",
    "\n",
    "data.shape"
   ]
  },
  {
   "cell_type": "markdown",
   "metadata": {},
   "source": [
    "## Part 1 Tasks\n",
    "\n",
    "Solve each of the following problems. \n",
    "- Check the example Python codes for data visualization and pandas DataFrame examples: EX1_pandas.zip on Week1 Synopsis in Canvas.\n",
    "\n",
    "(1) For each field of the data, what is the mean of the data? What is the median? Are there any dataset has mode value? \n",
    "\n",
    "(2) For each field of the data, give the five-number summary, minimum, the first quartile (Q1), median, the third quartile (Q3), and maximum of the data.\n",
    "\n",
    "(3) For each field of the data, visualize a boxplot of the data and compare it to your answer in (b).\n",
    "\n",
    "(4) For Sales, visualize distribution of the data using histogram. Comment on the data’s modality (i.e., bimodal, trimodal, etc.)\n",
    "\n",
    "(5) For Sales, visualize the trend of the data over time using a graph. \n",
    "\n",
    "(6) For each pair (TV-Sales, Radio-Sales, Newspaper-Sales), calculate the Pearson's correlation coefficient factor r. \n",
    "\n",
    "(7) For each pair (TV-Sales, Radio-Sales, Newspaper-Sales), visualize scatter graph. \n",
    "\n",
    "(8) Discuss what the differences are between the three: (1) boxplot, (2) histogram, and (3) scatter plot with respect to your founding. "
   ]
  },
  {
   "cell_type": "code",
   "execution_count": 22,
   "metadata": {
    "scrolled": true
   },
   "outputs": [
    {
     "name": "stdout",
     "output_type": "stream",
     "text": [
      "Sales: \n",
      "\n",
      "Mean:  14.022500000000003\n",
      "Mode:  0    9.7\n",
      "dtype: float64\n",
      "Median:  12.9\n",
      "\n",
      "TV: \n",
      "Mean:  147.0425\n",
      "Mode:  0     17.2\n",
      "1     76.4\n",
      "2    109.8\n",
      "3    177.0\n",
      "4    184.9\n",
      "5    197.6\n",
      "6    199.8\n",
      "7    222.4\n",
      "8    237.4\n",
      "9    240.1\n",
      "dtype: float64\n",
      "Median:  149.75\n",
      "\n",
      "Radio: \n",
      "Mean:  23.264000000000024\n",
      "Mode:  0    4.1\n",
      "1    5.7\n",
      "dtype: float64\n",
      "Median:  22.9\n",
      "\n",
      "Newspaper: \n",
      "Mean:  30.553999999999995\n",
      "Mode:  0     8.7\n",
      "1     9.3\n",
      "2    25.6\n",
      "dtype: float64\n",
      "Median:  25.75\n"
     ]
    }
   ],
   "source": [
    "print(\"Sales: \\n\")\n",
    "print(\"Mean: \", data[\"Sales\"].mean())\n",
    "print(\"Mode: \",data[\"Sales\"].mode())\n",
    "print(\"Median: \",data[\"Sales\"].median())\n",
    "\n",
    "print(\"\\nTV: \")\n",
    "print(\"Mean: \",data[\"TV\"].mean())\n",
    "print(\"Mode: \",data[\"TV\"].mode())\n",
    "print(\"Median: \",data[\"TV\"].median())\n",
    "\n",
    "print(\"\\nRadio: \")\n",
    "print(\"Mean: \",data[\"Radio\"].mean())\n",
    "print(\"Mode: \",data[\"Radio\"].mode())\n",
    "print(\"Median: \",data[\"Radio\"].median())\n",
    "\n",
    "print(\"\\nNewspaper: \")\n",
    "print(\"Mean: \",data[\"Newspaper\"].mean())\n",
    "print(\"Mode: \",data[\"Newspaper\"].mode())\n",
    "print(\"Median: \",data[\"Newspaper\"].median())\n"
   ]
  },
  {
   "cell_type": "code",
   "execution_count": 30,
   "metadata": {},
   "outputs": [
    {
     "data": {
      "text/html": [
       "<div>\n",
       "<style scoped>\n",
       "    .dataframe tbody tr th:only-of-type {\n",
       "        vertical-align: middle;\n",
       "    }\n",
       "\n",
       "    .dataframe tbody tr th {\n",
       "        vertical-align: top;\n",
       "    }\n",
       "\n",
       "    .dataframe thead th {\n",
       "        text-align: right;\n",
       "    }\n",
       "</style>\n",
       "<table border=\"1\" class=\"dataframe\">\n",
       "  <thead>\n",
       "    <tr style=\"text-align: right;\">\n",
       "      <th></th>\n",
       "      <th>TV</th>\n",
       "      <th>Radio</th>\n",
       "      <th>Newspaper</th>\n",
       "      <th>Sales</th>\n",
       "    </tr>\n",
       "  </thead>\n",
       "  <tbody>\n",
       "    <tr>\n",
       "      <th>count</th>\n",
       "      <td>200.000000</td>\n",
       "      <td>200.000000</td>\n",
       "      <td>200.000000</td>\n",
       "      <td>200.000000</td>\n",
       "    </tr>\n",
       "    <tr>\n",
       "      <th>mean</th>\n",
       "      <td>147.042500</td>\n",
       "      <td>23.264000</td>\n",
       "      <td>30.554000</td>\n",
       "      <td>14.022500</td>\n",
       "    </tr>\n",
       "    <tr>\n",
       "      <th>std</th>\n",
       "      <td>85.854236</td>\n",
       "      <td>14.846809</td>\n",
       "      <td>21.778621</td>\n",
       "      <td>5.217457</td>\n",
       "    </tr>\n",
       "    <tr>\n",
       "      <th>min</th>\n",
       "      <td>0.700000</td>\n",
       "      <td>0.000000</td>\n",
       "      <td>0.300000</td>\n",
       "      <td>1.600000</td>\n",
       "    </tr>\n",
       "    <tr>\n",
       "      <th>25%</th>\n",
       "      <td>74.375000</td>\n",
       "      <td>9.975000</td>\n",
       "      <td>12.750000</td>\n",
       "      <td>10.375000</td>\n",
       "    </tr>\n",
       "    <tr>\n",
       "      <th>50%</th>\n",
       "      <td>149.750000</td>\n",
       "      <td>22.900000</td>\n",
       "      <td>25.750000</td>\n",
       "      <td>12.900000</td>\n",
       "    </tr>\n",
       "    <tr>\n",
       "      <th>75%</th>\n",
       "      <td>218.825000</td>\n",
       "      <td>36.525000</td>\n",
       "      <td>45.100000</td>\n",
       "      <td>17.400000</td>\n",
       "    </tr>\n",
       "    <tr>\n",
       "      <th>max</th>\n",
       "      <td>296.400000</td>\n",
       "      <td>49.600000</td>\n",
       "      <td>114.000000</td>\n",
       "      <td>27.000000</td>\n",
       "    </tr>\n",
       "  </tbody>\n",
       "</table>\n",
       "</div>"
      ],
      "text/plain": [
       "               TV       Radio   Newspaper       Sales\n",
       "count  200.000000  200.000000  200.000000  200.000000\n",
       "mean   147.042500   23.264000   30.554000   14.022500\n",
       "std     85.854236   14.846809   21.778621    5.217457\n",
       "min      0.700000    0.000000    0.300000    1.600000\n",
       "25%     74.375000    9.975000   12.750000   10.375000\n",
       "50%    149.750000   22.900000   25.750000   12.900000\n",
       "75%    218.825000   36.525000   45.100000   17.400000\n",
       "max    296.400000   49.600000  114.000000   27.000000"
      ]
     },
     "execution_count": 30,
     "metadata": {},
     "output_type": "execute_result"
    }
   ],
   "source": [
    "data.describe()\n"
   ]
  },
  {
   "cell_type": "code",
   "execution_count": 40,
   "metadata": {},
   "outputs": [
    {
     "data": {
      "text/plain": [
       "{'whiskers': [<matplotlib.lines.Line2D at 0x1b5a4dd6550>,\n",
       "  <matplotlib.lines.Line2D at 0x1b5a4dd68e0>,\n",
       "  <matplotlib.lines.Line2D at 0x1b5a4de5d30>,\n",
       "  <matplotlib.lines.Line2D at 0x1b5a4df0100>,\n",
       "  <matplotlib.lines.Line2D at 0x1b5a4dfa550>,\n",
       "  <matplotlib.lines.Line2D at 0x1b5a4dfa8e0>,\n",
       "  <matplotlib.lines.Line2D at 0x1b5a4e07d30>,\n",
       "  <matplotlib.lines.Line2D at 0x1b5a4e14100>],\n",
       " 'caps': [<matplotlib.lines.Line2D at 0x1b5a4dd6c70>,\n",
       "  <matplotlib.lines.Line2D at 0x1b5a4de5040>,\n",
       "  <matplotlib.lines.Line2D at 0x1b5a4df0490>,\n",
       "  <matplotlib.lines.Line2D at 0x1b5a4df0820>,\n",
       "  <matplotlib.lines.Line2D at 0x1b5a4dfac70>,\n",
       "  <matplotlib.lines.Line2D at 0x1b5a4e07040>,\n",
       "  <matplotlib.lines.Line2D at 0x1b5a4e14490>,\n",
       "  <matplotlib.lines.Line2D at 0x1b5a4e14820>],\n",
       " 'boxes': [<matplotlib.patches.PathPatch at 0x1b5a4dd6190>,\n",
       "  <matplotlib.patches.PathPatch at 0x1b5a4de5940>,\n",
       "  <matplotlib.patches.PathPatch at 0x1b5a4dfa160>,\n",
       "  <matplotlib.patches.PathPatch at 0x1b5a4e079d0>],\n",
       " 'medians': [<matplotlib.lines.Line2D at 0x1b5a4de53d0>,\n",
       "  <matplotlib.lines.Line2D at 0x1b5a4df0bb0>,\n",
       "  <matplotlib.lines.Line2D at 0x1b5a4e073d0>,\n",
       "  <matplotlib.lines.Line2D at 0x1b5a4e14bb0>],\n",
       " 'fliers': [<matplotlib.lines.Line2D at 0x1b5a4de5760>,\n",
       "  <matplotlib.lines.Line2D at 0x1b5a4df0f40>,\n",
       "  <matplotlib.lines.Line2D at 0x1b5a4e07760>,\n",
       "  <matplotlib.lines.Line2D at 0x1b5a4e14f40>],\n",
       " 'means': []}"
      ]
     },
     "execution_count": 40,
     "metadata": {},
     "output_type": "execute_result"
    },
    {
     "data": {
      "image/png": "[encoded data removed]",
      "text/plain": [
       "<Figure size 432x288 with 1 Axes>"
      ]
     },
     "metadata": {
      "needs_background": "light"
     },
     "output_type": "display_data"
    }
   ],
   "source": [
    "import matplotlib.pyplot as plt\n",
    "labels = [\"TV\", \"Radio\", \"Newspaper\", \"Sales\"]\n",
    "plt.boxplot(data, vert=True, patch_artist = True, labels = labels)\n",
    "\"\"\"These boxplots give us a cleaner view of the values in question 2, as well as allowing us to see outliers,\n",
    "at the cost of precision.\"\"\"\n"
   ]
  },
  {
   "cell_type": "code",
   "execution_count": 62,
   "metadata": {},
   "outputs": [
    {
     "data": {
      "text/plain": [
       "(array([ 1.,  0.,  0.,  1.,  0.,  0.,  1.,  4.,  2.,  2.,  3.,  6.,  2.,\n",
       "         6.,  3., 13.,  4., 10.,  7., 13., 11.,  7.,  9.,  5.,  3.,  8.,\n",
       "         7.,  5.,  6.,  3.,  7.,  3.,  4.,  2.,  6.,  5.,  3.,  4.,  2.,\n",
       "         3.,  4.,  2.,  1.,  3.,  2.,  1.,  3.,  1.,  1.,  1.]),\n",
       " array([ 1.6  ,  2.108,  2.616,  3.124,  3.632,  4.14 ,  4.648,  5.156,\n",
       "         5.664,  6.172,  6.68 ,  7.188,  7.696,  8.204,  8.712,  9.22 ,\n",
       "         9.728, 10.236, 10.744, 11.252, 11.76 , 12.268, 12.776, 13.284,\n",
       "        13.792, 14.3  , 14.808, 15.316, 15.824, 16.332, 16.84 , 17.348,\n",
       "        17.856, 18.364, 18.872, 19.38 , 19.888, 20.396, 20.904, 21.412,\n",
       "        21.92 , 22.428, 22.936, 23.444, 23.952, 24.46 , 24.968, 25.476,\n",
       "        25.984, 26.492, 27.   ]),\n",
       " <BarContainer object of 50 artists>)"
      ]
     },
     "execution_count": 62,
     "metadata": {},
     "output_type": "execute_result"
    },
    {
     "data": {
      "image/png": "[encoded data removed]",
      "text/plain": [
       "<Figure size 432x288 with 1 Axes>"
      ]
     },
     "metadata": {
      "needs_background": "light"
     },
     "output_type": "display_data"
    }
   ],
   "source": [
    "import matplotlib.pyplot as plt\n",
    "plt.hist(data[\"Sales\"], bins = 50)"
   ]
  },
  {
   "cell_type": "code",
   "execution_count": 55,
   "metadata": {
    "scrolled": true
   },
   "outputs": [
    {
     "data": {
      "image/png": "[encoded data removed]",
      "text/plain": [
       "<Figure size 432x288 with 1 Axes>"
      ]
     },
     "metadata": {
      "needs_background": "light"
     },
     "output_type": "display_data"
    }
   ],
   "source": [
    "import matplotlib.pyplot as plt\n",
    "plt.figure()\n",
    "for sales in data.groupby(data.index.values):\n",
    "    plt.scatter(data.index.values,data[\"Sales\"],alpha = 0.8, label = sales)\n",
    "\n"
   ]
  },
  {
   "cell_type": "code",
   "execution_count": 57,
   "metadata": {},
   "outputs": [
    {
     "name": "stdout",
     "output_type": "stream",
     "text": [
      "0.7822244248616061\n",
      "0.5762225745710551\n",
      "0.22829902637616528\n"
     ]
    }
   ],
   "source": [
    "df = pd.DataFrame(data)\n",
    "print(df['TV'].corr(df['Sales'],method='pearson'))\n",
    "print(df['Radio'].corr(df['Sales'],method='pearson'))\n",
    "print(df['Newspaper'].corr(df['Sales'],method='pearson'))\n"
   ]
  },
  {
   "cell_type": "code",
   "execution_count": 58,
   "metadata": {},
   "outputs": [
    {
     "data": {
      "image/png": "[encoded data removed]",
      "text/plain": [
       "<Figure size 432x288 with 1 Axes>"
      ]
     },
     "metadata": {
      "needs_background": "light"
     },
     "output_type": "display_data"
    },
    {
     "data": {
      "image/png": "[encoded data removed]",
      "text/plain": [
       "<Figure size 432x288 with 1 Axes>"
      ]
     },
     "metadata": {
      "needs_background": "light"
     },
     "output_type": "display_data"
    },
    {
     "data": {
      "image/png": "[encoded data removed]",
      "text/plain": [
       "<Figure size 432x288 with 1 Axes>"
      ]
     },
     "metadata": {
      "needs_background": "light"
     },
     "output_type": "display_data"
    }
   ],
   "source": [
    "v_sales = df.plot.scatter(x='TV',y='Sales')\n",
    "radio_sales = df.plot.scatter(x='Radio',y='Sales')\n",
    "newspaper_sales = df.plot.scatter(x='Newspaper',y='Sales')\n"
   ]
  },
  {
   "cell_type": "code",
   "execution_count": null,
   "metadata": {},
   "outputs": [],
   "source": [
    "\"\"\"The scatter plot allows us to see trends and that the TV sales distribution seems to be the closest to having \n",
    "a readily identifiable one, and that the Newspaper sales distribution is the most sporadic. The box plots \n",
    "allows us to view the range of values for each more readily, while abstracting away the number of \n",
    "recorded sales events and allowing us to quickly identify any outliers (such as those present in the \n",
    "newspaper boxplot). The histogram focuses more on the number of times a particular sales yield was recorded, unlike \n",
    "the boxplots that hide this information.\"\"\""
   ]
  },
  {
   "cell_type": "markdown",
   "metadata": {},
   "source": [
    "## Part 2\n",
    "Write a summary of what you find from the data and submit the report to CAnvas. "
   ]
  },
  {
   "cell_type": "markdown",
   "metadata": {},
   "source": [
    "### Resources\n",
    "\n",
    "#### Boxplot\n",
    "https://towardsdatascience.com/understanding-boxplots-5e2df7bcbd51\n",
    "\n",
    "\n",
    "- matplotlib.pyplot boxplot demo\n",
    "https://matplotlib.org/3.1.1/gallery/pyplots/boxplot_demo_pyplot.html\n",
    "\n",
    "\n",
    "#### matplotlib.pyplot\n",
    "- scatter plot\n",
    "https://matplotlib.org/3.3.2/api/_as_gen/matplotlib.pyplot.scatter.html\n",
    "\n",
    "\n",
    "- histogram plot\n",
    "https://matplotlib.org/3.3.2/api/_as_gen/matplotlib.pyplot.hist.html\n",
    "\n",
    "\n",
    "#### pandas DataFrame\n",
    "https://pandas.pydata.org/pandas-docs/stable/reference/api/pandas.DataFrame.html\n",
    "\n",
    "\n",
    "- describe()\n",
    "https://pandas.pydata.org/pandas-docs/stable/reference/api/pandas.DataFrame.describe.html\n",
    "\n",
    "\n",
    "- corr()\n",
    "https://pandas.pydata.org/pandas-docs/stable/reference/api/pandas.DataFrame.corr.html\n",
    "\n",
    "\n",
    "- hist()\n",
    "https://pandas.pydata.org/pandas-docs/stable/reference/api/pandas.DataFrame.hist.html\n",
    "\n",
    "\n",
    "- plot.scatter()\n",
    "https://pandas.pydata.org/pandas-docs/stable/reference/api/pandas.DataFrame.plot.scatter.html\n",
    "\n",
    "\n",
    "- pivot()\n",
    "https://pandas.pydata.org/pandas-docs/stable/reference/api/pandas.DataFrame.pivot.html"
   ]
  }
 ],
 "metadata": {
  "kernelspec": {
   "display_name": "Python 3 (ipykernel)",
   "language": "python",
   "name": "python3"
  },
  "language_info": {
   "codemirror_mode": {
    "name": "ipython",
    "version": 3
   },
   "file_extension": ".py",
   "mimetype": "text/x-python",
   "name": "python",
   "nbconvert_exporter": "python",
   "pygments_lexer": "ipython3",
   "version": "3.9.7"
  }
 },
 "nbformat": 4,
 "nbformat_minor": 1
}
